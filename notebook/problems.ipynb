{
    "cells": [
        {
            "cell_type": "markdown",
            "id": "ac622319",
            "metadata": {},
            "source": [
                "# Descriptive Statistics Problems"
            ]
        },
        {
            "cell_type": "markdown",
            "id": "aa8993e4",
            "metadata": {},
            "source": [
                "### Exercise 1"
            ]
        },
        {
            "cell_type": "markdown",
            "id": "5e0ab0d5",
            "metadata": {},
            "source": [
                "As right now, you are familliar with numpy, we are going to use numpy to get some data statistics.\n",
                "\n",
                "First, lets create an array of 20 elements distributed normally (Gaussian):\n",
                "\n",
                "Use the np.random.normal function to create some data, using 0,1,20 as parameters because we want a one dimentional array of 20 numbers distributed normally (Gaussian)"
            ]
        },
        {
            "cell_type": "code",
            "execution_count": 5,
            "id": "34720ab6",
            "metadata": {},
            "outputs": [
                {
                    "name": "stdout",
                    "output_type": "stream",
                    "text": [
                        "[ 0.09120472  1.09128273 -1.94697031 -1.38634953 -2.29649157  2.4098343\n",
                        "  1.72783617  2.20455628  0.79482764  0.9764211  -1.18342715  1.91636361\n",
                        " -1.1233268  -0.66403547 -0.37835857 -0.79161527  0.85954811 -0.230789\n",
                        " -0.06566103 -0.20863623]\n",
                        "\n",
                        "The mean of our data is: 0.08981068643586912\n",
                        "\n",
                        "The variance of our data is: 1.7823929115428379\n",
                        "\n",
                        "The standard deviation of our data is: 1.3350628867371146\n",
                        "\n",
                        "The mode of our data is: [-2.29649157]\n",
                        "Occurrences of the mode is: [1]\n",
                        "\n",
                        "Random discrete array: [2 0 7 5 2 6 7 7 4 3]\n",
                        "The mode for this array is: ModeResult(mode=array([7]), count=array([3]))\n",
                        "\n",
                        "Lets back to our original data: [ 0.09120472  1.09128273 -1.94697031 -1.38634953 -2.29649157  2.4098343\n",
                        "  1.72783617  2.20455628  0.79482764  0.9764211  -1.18342715  1.91636361\n",
                        " -1.1233268  -0.66403547 -0.37835857 -0.79161527  0.85954811 -0.230789\n",
                        " -0.06566103 -0.20863623]\n",
                        "\n",
                        "The median of our data is: -0.13714863141847414\n",
                        "\n",
                        "For the quantiles [0.1, 0.2, 0.3, 0.4, 0.5, 0.6, 0.7, 0.8, 0.9, 1] their corresponding values are: \n",
                        "[-1.44241161 -1.13534687 -0.70230941 -0.28981683 -0.13714863  0.37265389\n",
                        "  0.89461001  1.21859342  1.94518288  2.4098343 ]\n"
                    ]
                }
            ],
            "source": [
                "import numpy as np\n",
                "from scipy import stats\n",
                "\n",
                "np.random.seed(8)\n",
                "random_array = np.random.normal(0, 1, 20)\n",
                "print(random_array)\n",
                "print()\n",
                "\n",
                "# Use numpy to get the mean of your data\n",
                "print(f\"The mean of our data is: {random_array.mean()}\")\n",
                "print()\n",
                "\n",
                "# Get the variance of your data\n",
                "print(f\"The variance of our data is: {random_array.var()}\")\n",
                "print()\n",
                "\n",
                "# Standard deviation\n",
                "print(f\"The standard deviation of our data is: {np.std(random_array)}\")\n",
                "print()\n",
                "\n",
                "# Print the mode\n",
                "mode, count = stats.mode(random_array)\n",
                "print(f\"The mode of our data is: {mode}\")\n",
                "print(f\"Occurrences of the mode is: {count}\")\n",
                "print()\n",
                "\n",
                "# Mode for a discrete array\n",
                "discrete_random_array = np.random.randint(8, size=10)\n",
                "print(f\"Random discrete array: {discrete_random_array}\")\n",
                "print(f\"The mode for this array is: {stats.mode(discrete_random_array)}\")\n",
                "print()\n",
                "\n",
                "# Median\n",
                "print(f\"Lets back to our original data: {random_array}\")\n",
                "print()\n",
                "print(f\"The median of our data is: {np.median(random_array)}\")\n",
                "print()\n",
                "\n",
                "# Print the Quantiles\n",
                "quantiles = [0.1, 0.2, 0.3, 0.4, 0.5, 0.6, 0.7, 0.8, 0.9, 1]\n",
                "print(f\"For the quantiles {quantiles} their corresponding values are: \")\n",
                "print(f\"{np.quantile(random_array, quantiles)}\")\n",
                "\n",
                "# This match with np.median, why?\n",
                "# I guess you mean that the 50th matches the mean.\n",
                "# It does because if we calculate a 50th percentile, 50% of the time the returns are below that resulting value and 50% of the time they are above that value"
            ]
        },
        {
            "cell_type": "markdown",
            "id": "46c70c3d",
            "metadata": {},
            "source": [
                "### Exercise 2\n",
                "\n",
                "Write a Python program to calculate the standard deviation of the following data:\n",
                "```py\n",
                "data = [4, 2, 5, 8, 6]\n",
                "```"
            ]
        },
        {
            "cell_type": "code",
            "execution_count": 22,
            "id": "d590308e",
            "metadata": {},
            "outputs": [
                {
                    "name": "stdout",
                    "output_type": "stream",
                    "text": [
                        "Input values: [4, 2, 5, 8, 6]\n",
                        "\n",
                        "Standard deviation (Sample): 2.23606797749979\n",
                        "\n",
                        "Standard deviation (Population): 2.0\n"
                    ]
                }
            ],
            "source": [
                "import math\n",
                "import sys\n",
                "from typing import Union\n",
                "\n",
                "# Define the average function\n",
                "def calculate_average(values: list):\n",
                "    values_length = len(values)\n",
                "    if values_length <= 1:\n",
                "        return values.get(0, 0)\n",
                "\n",
                "    summation = 0\n",
                "\n",
                "    # calculate average\n",
                "    for value in values:\n",
                "        summation += value\n",
                "\n",
                "    mean = summation / values_length\n",
                "    return mean\n",
                "\n",
                "# Define the standard deviation function\n",
                "def calculate_standard_deviation(values:list, sample:bool, custom_delta_degrees_of_freedom:Union[int, None] = None): \n",
                "    values_length = len(values) \n",
                "    if values_length <= 1:\n",
                "        return 0\n",
                "\n",
                "    mean = calculate_average(values)\n",
                "    summation = 0\n",
                "\n",
                "    # calculate standard deviation\n",
                "    for value in values:\n",
                "        summation += (value - mean)**2\n",
                "\n",
                "    delta_degrees_of_freedom = 0\n",
                "\n",
                "    if sample:\n",
                "        delta_degrees_of_freedom = 1\n",
                "    else:\n",
                "        delta_degrees_of_freedom = 0\n",
                "\n",
                "    if type(custom_delta_degrees_of_freedom) != type(None):\n",
                "        delta_degrees_of_freedom = custom_delta_degrees_of_freedom\n",
                "    \n",
                "    standard_deviation = math.sqrt(summation / (values_length - delta_degrees_of_freedom))\n",
                "\n",
                "    return standard_deviation\n",
                "    \n",
                "values = [4, 2, 5, 8, 6]\n",
                "\n",
                "#print the data\n",
                "print(f\"Input values: {values}\")\n",
                "print()\n",
                "\n",
                "#print the standard deviation of the data\n",
                "print(f\"Standard deviation (Sample): {calculate_standard_deviation(values, sample=True)}\")\n",
                "print()\n",
                "print(f\"Standard deviation (Population): {calculate_standard_deviation(values, sample=False)}\")"
            ]
        },
        {
            "cell_type": "markdown",
            "id": "04b71791",
            "metadata": {},
            "source": [
                "Source:\n",
                "\n",
                "https://www.w3resource.com/"
            ]
        }
    ],
    "metadata": {
        "kernelspec": {
            "display_name": "Python 3.8.13 64-bit ('3.8.13')",
            "language": "python",
            "name": "python3"
        },
        "language_info": {
            "codemirror_mode": {
                "name": "ipython",
                "version": 3
            },
            "file_extension": ".py",
            "mimetype": "text/x-python",
            "name": "python",
            "nbconvert_exporter": "python",
            "pygments_lexer": "ipython3",
            "version": "3.8.13"
        },
        "vscode": {
            "interpreter": {
                "hash": "110cc1dee26208153f2972f08a2ad52b6a56238dc66d48e87fb757ef2996db56"
            }
        }
    },
    "nbformat": 4,
    "nbformat_minor": 5
}
